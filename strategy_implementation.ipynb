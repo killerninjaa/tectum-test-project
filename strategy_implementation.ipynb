{
 "cells": [
  {
   "cell_type": "markdown",
   "metadata": {},
   "source": [
    "# Тестовое задание для *Tectum*\n",
    "### Рогачев Максим, 09.02.24"
   ]
  },
  {
   "cell_type": "markdown",
   "metadata": {},
   "source": [
    "**Задача:** реализовать автоматическое тестирование стратегии, описанной тут - https://www.youtube.com/watch?v=aGKjGtK5kJw&ab_channel=%D0%A7%D0%B5%D1%81%D1%82%D0%BD%D1%8B%D0%B9%D0%A2%D1%80%D0%B5%D0%B9%D0%B4%D0%B5%D1%80. Собрать необходимую статистику по проделанным сделкам на разных tf. "
   ]
  },
  {
   "cell_type": "markdown",
   "metadata": {},
   "source": [
    "Для выполнения задачи я решил использовать библиотеку backtrader - новый для себя инструмент, до этого я проводил тестирование вручную. Backtrader удобен тем, что предоставляет много готовых индикаторов, также упрощает процесс анализа. "
   ]
  },
  {
   "cell_type": "code",
   "execution_count": 186,
   "metadata": {},
   "outputs": [],
   "source": [
    "import pandas as pd\n",
    "import backtrader as bt\n",
    "import numpy as np\n",
    "import warnings\n",
    "warnings.filterwarnings('ignore')"
   ]
  },
  {
   "cell_type": "markdown",
   "metadata": {},
   "source": [
    "Итак, первым делом необходимо подготовить данные. Данные скачиваются с бинанс не единым файлом, а отдельным файлом за каждый месяц, поэтому данные нужно объединить. Также необходимо обработать даты, которые изначально хранятся в формате timestamp. "
   ]
  },
  {
   "cell_type": "code",
   "execution_count": 187,
   "metadata": {},
   "outputs": [],
   "source": [
    "def make_dataset(file_name):\n",
    "    '''\n",
    "    Функция считывает все файлы для конкретного tf и объединяет их в единый датасет\n",
    "    file_name: общее название файлов для конкретного tf, str\n",
    "    '''\n",
    "    data = pd.DataFrame()\n",
    "    for i in range(1, 13): #проходим данные за каждый месяц\n",
    "        tmp = pd.read_csv(file_name + f\"{i}.csv\", usecols=range(5), names=['open_time', 'open', 'high', 'low', 'close'])\n",
    "        tmp['open_time'] = pd.to_datetime(tmp['open_time'], unit='ms') #преобразуем столбец с датой\n",
    "        data = pd.concat([data, tmp]) #объединяем датасеты\n",
    "    data = data.reset_index(drop=True)  \n",
    "    return data\n",
    "\n",
    "datasets = []\n",
    "for file_name in ['APEUSDT-5m-2023-', 'APEUSDT-15m-2023-', 'APEUSDT-1h-2023-']: #для каждого tf вызываем функцию make_dataset\n",
    "    datasets.append(make_dataset(file_name))\n",
    "data_5_mins, data_15_mins, data_1_hour = datasets[0], datasets[1], datasets[2] #разделяем датасеты по признаку tf\n",
    "\n",
    "data_5_mins = data_5_mins.drop(23767) #в 5 минутном датасете есть одна строчка, \n",
    "                                      #от коротой backtrader падает, \n",
    "                                      #потому что в ней совпадают значения всех столбцов"
   ]
  },
  {
   "cell_type": "markdown",
   "metadata": {},
   "source": [
    "Далее можно перейти к реализации класса стратегии и торговой логики. \n",
    "\n",
    "**Торговый алгоритм:**\n",
    "1. Получив очередную цену закрытия, проверить предыдущую цену на пиковость(лок. максимум или минимум)\n",
    "2. Если позиция на данный момент не открыта, то проверяем условия для открытия сделки. Если они выполнены, то открываем сделку и рассчитываем стоп-лосс и тейк-профит. \n",
    "3. Stop-loss ставится ниже или выше пика на значение stop_loss_offset. При этом, если stop-loss выходит за границы stop_loss_min или stop_loss_max, то он пересчитывается от предыдущего пика. Процесс пересчёта продолжается до тех пор, пока stop-loss не попадёт четко в интервал. Если же такого пика не обнаружится, то stop-loss будет установлен в занчение stop_loss_min или в stop_loss_max, в зависимости от того, за границы какого ограничения он вышел. \n",
    "4. Take-profit всегда рассчитывается как stop-loss умноженный на значение risk_reward_ratio \n",
    "5. Если на данный момент есть открытая позиция, то происходит проверка, не пора ли её закрыть по stop-loss или take-profit. Если есть такая необходимость, то сделка закрывается. \n"
   ]
  },
  {
   "cell_type": "code",
   "execution_count": 188,
   "metadata": {},
   "outputs": [],
   "source": [
    "class StochRSIMACD(bt.Strategy):\n",
    "    \n",
    "    params = (\n",
    "        ('stoch_period', 14), #период стохастика\n",
    "        ('rsi_period', 14), #период rsi\n",
    "        ('macd1', 12), #период первой скользящей средней MACD\n",
    "        ('macd2', 26), #период второй скользящей средней MACD\n",
    "        ('macdsig', 9), #период сигнальной линии MACD \n",
    "        ('stop_loss_offset', 0.01), #отступ от пиков(локальных минимумов и максимумов), 0.01 = 1%\n",
    "        ('risk_reward_ratio', 2.25), #соотношение прибыли к риску\n",
    "        ('min_stop_loss', 1), #минимальное значение стоп-лосса в процентах\n",
    "        ('max_stop_loss', 4), #максимальное значение stop_loss в процентах\n",
    "        ('time_frame', 5) #time frame в минутах\n",
    "    )\n",
    "\n",
    "    def __init__(self):\n",
    "        #инициализация индикаторов\n",
    "        self.stoch = bt.indicators.Stochastic(period=self.params.stoch_period, period_dfast=3)\n",
    "        self.rsi = bt.indicators.RSI(period=self.params.rsi_period)\n",
    "        self.macd = bt.indicators.MACD(period_me1=self.params.macd1,\n",
    "                                       period_me2=self.params.macd2,\n",
    "                                       period_signal=self.params.macdsig)\n",
    "        self.dataclose = self.datas[0].close #для удобства обращения к последней цене закрытия\n",
    "        self.local_minimums = [] #хранение локальных минимумов\n",
    "        self.local_maximums = [] #хранение локальных максимумов\n",
    "        #хранение инфы об ордерах\n",
    "        self.order_info = {'risk_reward_ratio': [], #соотношение прибыли к риску\n",
    "                           'stop_loss, %': [], #стоп-лосс в процентах\n",
    "                           'take_profit, %': [], #тейк-профит в процентах\n",
    "                           'result': [], #PnL ордера\n",
    "                           'duration, bars': [] #длительность ордера в барах(число свеч)\n",
    "                           }\n",
    "    \n",
    "    def close_trade(self, close_price):\n",
    "        '''\n",
    "        Функция закрытия ордеров, требуется для сохранения информации\n",
    "        close_price: цена закрытия. Либо stop_loss, либо take_profit\n",
    "        '''\n",
    "        self.order_info['result'].append((close_price - self.open_price) * self.order.executed.size) #сохраняем PnL\n",
    "        self.order_info['duration, bars'].append((self.datas[0].datetime.datetime(0).timestamp() - self.open_time) / self.params.time_frame / 60) #сохраняем длительность\n",
    "        self.order = self.close() #закрываем сделку\n",
    "\n",
    "    def write_order_info(self):    \n",
    "        '''\n",
    "        Функция записи информации об ордере при его открытии\n",
    "        '''\n",
    "        self.order_info['risk_reward_ratio'].append(self.params.risk_reward_ratio) #запись соотношения прибыли к риску\n",
    "        self.order_info['stop_loss, %'].append(self.stop_loss_perc * 100) #запись стоп-лосса в процентах\n",
    "        self.order_info['take_profit, %'].append(self.take_profit_perc) #запись тейк-профита в процентах\n",
    "        self.open_time = self.datas[0].datetime.datetime(0).timestamp() #сохранение времени открытия\n",
    "\n",
    "    def calculate_perc(self, open_price, close_price):\n",
    "        '''\n",
    "        Функция вычисления процентов\n",
    "        '''\n",
    "        return (open_price - close_price) / open_price   \n",
    "\n",
    "    def next(self):\n",
    "        '''\n",
    "        Основная функция итерации по данным. Работает для каждой строки в датасете\n",
    "        ''' \n",
    "        #вычисляем локальные минимумы и максимумы\n",
    "        if self.dataclose[-2] > self.dataclose[-1] and self.dataclose[0] > self.dataclose[-1]:\n",
    "            self.local_minimums.append(self.dataclose[-1])\n",
    "        elif self.dataclose[-2] < self.dataclose[-1] and self.dataclose[0] < self.dataclose[-1]:\n",
    "            self.local_maximums.append(self.dataclose[-1])\n",
    "        \n",
    "        if not self.position: #если нет открытых ордеров\n",
    "            #проверяем условия для открытия сделки на покупку\n",
    "            if len(self.local_minimums) >= 1 and self.rsi[0] > 50 and self.stoch[0] > 20 and self.macd.macd[0] >= self.macd.signal[0]:\n",
    "                self.order = self.buy() #покупаем\n",
    "                self.open_price = self.dataclose[0] #цена открытия\n",
    "                self.stop_loss = self.local_minimums[-1] * (1 - self.params.stop_loss_offset) #расчет стоп-лосса\n",
    "                \n",
    "                #проверяем, что стоп-лосс больше минимального процента\n",
    "                i = -2\n",
    "                while i*(-1) <= len(self.local_minimums) and \\\n",
    "                (self.calculate_perc(self.open_price, self.stop_loss) * 100 < self.params.min_stop_loss or \\\n",
    "                 self.calculate_perc(self.open_price, self.stop_loss) * 100 > self.params.max_stop_loss):\n",
    "                    self.stop_loss = self.local_minimums[i] * (1 - self.params.stop_loss_offset) #при необходимости отсчитываем стоп от предыдущего пика\n",
    "                    i -= 1\n",
    "                #если на любом пике мы выходим за границы stop-loss        \n",
    "                if self.calculate_perc(self.open_price, self.stop_loss) * 100 < self.params.min_stop_loss:\n",
    "                    self.stop_loss = self.open_price * (1 - self.params.min_stop_loss / 100)    \n",
    "                elif self.calculate_perc(self.open_price, self.stop_loss) * 100 > self.params.max_stop_loss:\n",
    "                    self.stop_loss = self.open_price * (1 - self.params.max_stop_loss / 100)        \n",
    "                \n",
    "                self.stop_loss_perc = self.calculate_perc(self.open_price, self.stop_loss) #расчет стопа в процентах\n",
    "                self.take_profit = self.open_price * (1 + self.stop_loss_perc * self.params.risk_reward_ratio) #расчёт тейк-профита в зависимости от стопа\n",
    "                self.take_profit_perc = self.stop_loss_perc * self.params.risk_reward_ratio * 100 #расчет тейк-профита в процентах\n",
    "                self.write_order_info() #вызов функции записи инфы\n",
    "            \n",
    "            #проверяем условия для открытия сделки на продажу\n",
    "            elif len(self.local_maximums) >= 1 and self.rsi[0] < 50 and self.stoch[0] < 80 and self.macd.macd[0] <= self.macd.signal[0]:\n",
    "                self.order = self.sell() #продаём\n",
    "                self.open_price = self.dataclose[0] #цена открытия\n",
    "                self.stop_loss = self.local_maximums[-1] * (1 + self.params.stop_loss_offset) #расчет стоп-лосса\n",
    "                \n",
    "                #проверяем, что стоп-лосс больше минимального процента\n",
    "                i = -2\n",
    "                while i*(-1) <= len(self.local_maximums) and \\\n",
    "                (self.calculate_perc(self.stop_loss, self.open_price) * 100 < self.params.min_stop_loss or \\\n",
    "                 self.calculate_perc(self.stop_loss, self.open_price) * 100 > self.params.max_stop_loss):\n",
    "                    self.stop_loss = self.local_maximums[i] * (1 + self.params.stop_loss_offset) #при необходимости отсчитываем стоп от предыдущего пика\n",
    "                    i -= 1\n",
    "                #если на любом пике мы выходим за границы stop-loss    \n",
    "                if self.calculate_perc(self.stop_loss, self.open_price) * 100 < self.params.min_stop_loss: \n",
    "                    self.stop_loss = self.open_price * (1 + self.params.min_stop_loss / 100) \n",
    "                elif self.calculate_perc(self.stop_loss, self.open_price) * 100 > self.params.max_stop_loss:\n",
    "                    self.stop_loss = self.open_price * (1 + self.params.max_stop_loss / 100)     \n",
    "                \n",
    "                self.stop_loss_perc = self.calculate_perc(self.stop_loss, self.open_price) #расчет стопа в процентах\n",
    "                self.take_profit = self.open_price * (1 - self.stop_loss_perc * self.params.risk_reward_ratio) #расчёт тейк-профита в зависимости от стопа\n",
    "                self.take_profit_perc = self.stop_loss_perc * self.params.risk_reward_ratio * 100 #расчет тейк-профита в процентах\n",
    "                self.write_order_info() #вызов функции записи инфы\n",
    "        \n",
    "        else: #если сделка открыта\n",
    "            # проверяем, не нужно ли закрыть её по стопу\n",
    "            if (self.dataclose[0] <= self.stop_loss and self.order.isbuy()) or (self.dataclose[0] >= self.stop_loss and self.order.issell()):\n",
    "                self.close_trade(self.stop_loss)   \n",
    "            # проверяем, не нужно ли закрыть её по тейк-профиту    \n",
    "            elif (self.dataclose[0] >= self.take_profit and self.order.isbuy()) or (self.dataclose[0] <= self.take_profit and self.order.issell()):\n",
    "                self.close_trade(self.take_profit)               "
   ]
  },
  {
   "cell_type": "markdown",
   "metadata": {},
   "source": [
    "Следующая функция подтягивает наши данные, инициализирует класс и стратегии и запускает тест."
   ]
  },
  {
   "cell_type": "code",
   "execution_count": 189,
   "metadata": {},
   "outputs": [],
   "source": [
    "def start_backtesting(data, stop_loss_offset, risk_reward_ratio, min_stop_loss, max_stop_loss, tf):\n",
    "    '''\n",
    "    Функция запуска backtesting. Инициализирует стратегию и данные, \n",
    "    запускает отработку и возвращает датасет с информацией об ордерах\n",
    "    data: датасет с данными, pd.DataFrame\n",
    "    stop_loss_offset: отступ от пика при установке stop_loss, 0.01=1%\n",
    "    risk_reward_ratio: соотношение прибыли к риску, float\n",
    "    min_stop_loss: минимальный stop-loss в процентах\n",
    "    tf: timeframe данных в минутах\n",
    "    return: датасет с информацией о сделках, pd.DataFrame\n",
    "\n",
    "    Столбцы в возвращаемом дата фрейме:  \n",
    "    risk_reward_ratio - соотношение прибыли к риску\n",
    "    stop_loss - стоп-лосс в процентах\n",
    "    take_profit - тейк-профит в процентах\n",
    "    result - PnL ордера\n",
    "    duration, bars - длительность ордера в барах(число свеч)    \n",
    "    '''\n",
    "    cerebro = bt.Cerebro()\n",
    "    cerebro.addstrategy(StochRSIMACD, #инициализируем стратегию\n",
    "                        stop_loss_offset=stop_loss_offset, \n",
    "                        risk_reward_ratio=risk_reward_ratio, \n",
    "                        min_stop_loss=min_stop_loss,\n",
    "                        max_stop_loss=max_stop_loss,\n",
    "                        time_frame=tf)\n",
    "    cerebro.addsizer(bt.sizers.PercentSizer, percents=20) #каждую сделку открываем на 20% от банка\n",
    "\n",
    "    data_parsed = bt.feeds.PandasData(dataname=data, #приводим данные в необходимый формат\n",
    "                                      datetime=0, \n",
    "                                      open=1, \n",
    "                                      high=2, \n",
    "                                      low=3, \n",
    "                                      close=4, \n",
    "                                      volume=None, \n",
    "                                      openinterest=None)\n",
    "    cerebro.adddata(data_parsed) #добавляем данные\n",
    "\n",
    "    cerebro.addanalyzer(bt.analyzers.TradeAnalyzer, _name='tradeanalyzer') #добавляем аналитику\n",
    "\n",
    "    results = cerebro.run() #запускаем тестирование\n",
    "\n",
    "    #trade_analysis = results[0].analyzers.tradeanalyzer.get_analysis() #получаем анализ по торговле\n",
    "    \n",
    "    results[0].order_info['result'].append('*') #ставим заглушки для незакрытых сделок\n",
    "    results[0].order_info['duration, bars'].append('*') #ставим заглушки для незакрытых сделок\n",
    "    trade_data = pd.DataFrame(results[0].order_info) #записываем информацию об ордерах\n",
    "\n",
    "    return trade_data"
   ]
  },
  {
   "cell_type": "markdown",
   "metadata": {},
   "source": [
    "Ещё пара вспомогательных функций:"
   ]
  },
  {
   "cell_type": "code",
   "execution_count": 190,
   "metadata": {},
   "outputs": [],
   "source": [
    "def find_max_sub(df, is_positive):   \n",
    "    '''\n",
    "    Вспомогательная функция для расчёта максимального количества подряд идущих\n",
    "    прибыльных и убыточных сделок\n",
    "    df: датафрейм для расчёта, pd.DataFrame\n",
    "    is_positive: если True, то считаются прибыльные сделки. В противном случае - убыточные\n",
    "    return: максимальное кол - во подряд идущих сделок\n",
    "    '''\n",
    "    if is_positive: \n",
    "        df['tmp'] = np.where(df['result'] > 0, 1, 0)\n",
    "    else:\n",
    "        df['tmp'] = np.where(df['result'] < 0, 1, 0)  \n",
    "    df['block'] = (df['tmp'].shift(1) != df['tmp']).astype(int).cumsum()\n",
    "    max_in_a_row = df[df['tmp'] == 1].groupby('block').count().max().values[0]\n",
    "    return max_in_a_row"
   ]
  },
  {
   "cell_type": "code",
   "execution_count": 195,
   "metadata": {},
   "outputs": [],
   "source": [
    "def write_strategy_info(data, tf):\n",
    "    '''\n",
    "    Функция для вывода статистики о сделках\n",
    "    '''\n",
    "    print('Длительность проведения бектеста:', int(data[:250]['duration, bars'].sum() * tf / 60 / 24), 'дня')\n",
    "    print('Количество закрытых сделок:', len(data[:250]))\n",
    "    print('Общий PnL:', round(data[:250]['result'].sum(), 2))\n",
    "    print('Максимальное число прибыльных сделок в ряд:', find_max_sub(data[:250], is_positive=True))\n",
    "    print('Максимальное число убыточных сделок в ряд:', find_max_sub(data[:250], is_positive=False))\n",
    "    print('WinRate: ', round((data[:250]['result'] > 0).sum() / len(data[:250]) * 100, 2), '%', sep='')"
   ]
  },
  {
   "cell_type": "markdown",
   "metadata": {},
   "source": [
    "Стоит уточнить, что по умолчанию наш начальный баланс - 10000 у.е., а по выставленным настройкам каждая сделка открывается на 20% от банка. \n",
    "\n",
    "Следующие ячейки запускают тестирование для каждого из 3 таймфреймов. Обратите внимание, что при вызове функции можно менять все параметры, кроме data и tf. \n",
    "\n",
    "trade_df_{time_frame} - датафрейм, содержащий всю информацию о сделках для конкретного таймфрейма."
   ]
  },
  {
   "cell_type": "markdown",
   "metadata": {},
   "source": [
    "Правильно выставленные параметры могут обеспечить достаточно высокий Pnl на любом таймфрейме, однако от этого падает количество сделок. В этом задании я взял самые дефолтные параметры, описанные в видео, прогнал годовые данные для каждого таймфрейма и взял первые 250 сделок. "
   ]
  },
  {
   "cell_type": "code",
   "execution_count": 192,
   "metadata": {},
   "outputs": [
    {
     "name": "stdout",
     "output_type": "stream",
     "text": [
      "Длительность проведения бектеста: 133 дня\n",
      "Количество закрытых сделок: 250\n",
      "Общий PnL: 32.85\n",
      "Максимальное число прибыльных сделок в ряд: 6\n",
      "Максимальное число убыточных сделок в ряд: 10\n",
      "WinRate: 41.2%\n"
     ]
    }
   ],
   "source": [
    "trade_df_5_mins = start_backtesting(data=data_5_mins, stop_loss_offset=0.005, risk_reward_ratio=1.5, min_stop_loss=1, max_stop_loss=10, tf=5)\n",
    "write_strategy_info(trade_df_5_mins, tf=5)"
   ]
  },
  {
   "cell_type": "code",
   "execution_count": 193,
   "metadata": {},
   "outputs": [
    {
     "name": "stdout",
     "output_type": "stream",
     "text": [
      "Длительность проведения бектеста: 95 дня\n",
      "Количество закрытых сделок: 250\n",
      "Общий PnL: -1481.09\n",
      "Максимальное число прибыльных сделок в ряд: 7\n",
      "Максимальное число убыточных сделок в ряд: 13\n",
      "WinRate: 36.0%\n"
     ]
    }
   ],
   "source": [
    "trade_df_15_mins = start_backtesting(data=data_15_mins, stop_loss_offset=0.005, risk_reward_ratio=1.5, min_stop_loss=1, max_stop_loss=10, tf=15)\n",
    "write_strategy_info(trade_df_15_mins, tf=5)"
   ]
  },
  {
   "cell_type": "code",
   "execution_count": 194,
   "metadata": {},
   "outputs": [
    {
     "name": "stdout",
     "output_type": "stream",
     "text": [
      "Длительность проведения бектеста: 169 дня\n",
      "Количество закрытых сделок: 250\n",
      "Общий PnL: -1813.78\n",
      "Максимальное число прибыльных сделок в ряд: 6\n",
      "Максимальное число убыточных сделок в ряд: 7\n",
      "WinRate: 42.8%\n"
     ]
    }
   ],
   "source": [
    "trade_df_1_hour = start_backtesting(data=data_1_hour, stop_loss_offset=0.005, risk_reward_ratio=1, min_stop_loss=0.5, max_stop_loss=4, tf=60)[:-1]\n",
    "write_strategy_info(trade_df_1_hour, tf=60)"
   ]
  },
  {
   "cell_type": "markdown",
   "metadata": {},
   "source": [
    "Подводя итог, могу предложить свои варианты по улучшению перфоманса стратегии:\n",
    "\n",
    "1. Как я уже писал, правильно выставленные параметры сильно повышают PnL, однако уменьшают кол-во сделок, так как обычно правильные параметры - высокое соотношение прибыли и риска и высокий минимальный стоп-лосс. Из - за этого сделки долго висят открытыми, следовательно меньше сделок открывается. Отсюда рождается идея ограничения продолжительности сделок.\n",
    "\n",
    "2. Возможно, есть смысл ввести ограничение сверху для тейк-профита. "
   ]
  }
 ],
 "metadata": {
  "kernelspec": {
   "display_name": "Python 3",
   "language": "python",
   "name": "python3"
  },
  "language_info": {
   "codemirror_mode": {
    "name": "ipython",
    "version": 3
   },
   "file_extension": ".py",
   "mimetype": "text/x-python",
   "name": "python",
   "nbconvert_exporter": "python",
   "pygments_lexer": "ipython3",
   "version": "3.10.7"
  }
 },
 "nbformat": 4,
 "nbformat_minor": 2
}
